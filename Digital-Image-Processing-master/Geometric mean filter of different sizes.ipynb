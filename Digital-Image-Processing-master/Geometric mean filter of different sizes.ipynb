{
 "cells": [
  {
   "cell_type": "code",
   "execution_count": 27,
   "metadata": {},
   "outputs": [
    {
     "name": "stderr",
     "output_type": "stream",
     "text": [
      "<ipython-input-27-7cc0c2ffb581>:29: RuntimeWarning: overflow encountered in long_scalars\n",
      "  temp = temp * img[i+l, j+k]\n"
     ]
    },
    {
     "data": {
      "image/png": "[encoded data removed]",
      "text/plain": [
       "<Figure size 432x288 with 1 Axes>"
      ]
     },
     "metadata": {
      "needs_background": "light"
     },
     "output_type": "display_data"
    },
    {
     "data": {
      "image/png": "[encoded data removed]",
      "text/plain": [
       "<Figure size 432x288 with 1 Axes>"
      ]
     },
     "metadata": {
      "needs_background": "light"
     },
     "output_type": "display_data"
    }
   ],
   "source": [
    "#applying 3X3 mask\n",
    "import cv2\n",
    "import matplotlib.pyplot as plt \n",
    "import math\n",
    "import numpy as np\n",
    "\n",
    "#creating the image\n",
    "img = np.zeros([230, 233])\n",
    "img = img.astype(np.uint8) \n",
    "for i in range(10, 220):\n",
    "    j = 0\n",
    "    while j <= 192:\n",
    "        for k in range(j+0, j+16):\n",
    "            img[i, k] = 0\n",
    "        for k in range(j+17, j+24):\n",
    "            img[i, k] = 255\n",
    "        j += 24\n",
    "\n",
    "m, n = img.shape \n",
    "\n",
    "img_new = np.zeros([m, n]) \n",
    "\n",
    "# Convolve the 3X3 mask over the image \n",
    "for i in range(1, m-1): \n",
    "    for j in range(1, n-1): \n",
    "        temp = 1\n",
    "        for l in range(-1, 2):\n",
    "            for k in range(-1, 2):\n",
    "                temp = temp * img[i+l, j+k]\n",
    "        temp = np.power(temp, 1/9)\n",
    "        \n",
    "        img_new[i, j]= temp\n",
    "        \n",
    "img_new = img_new.astype(np.uint8) \n",
    "\n",
    "\n",
    "# Display the images\n",
    "plt.imshow(cv2.cvtColor(img, cv2.COLOR_BGR2RGB)) \n",
    "plt.show()\n",
    "\n",
    "# Display the images\n",
    "plt.imshow(cv2.cvtColor(img_new, cv2.COLOR_BGR2RGB)) \n",
    "plt.show()\n"
   ]
  },
  {
   "cell_type": "code",
   "execution_count": 30,
   "metadata": {},
   "outputs": [
    {
     "name": "stderr",
     "output_type": "stream",
     "text": [
      "<ipython-input-30-0cd7ae901ac3>:27: RuntimeWarning: overflow encountered in long_scalars\n",
      "  temp = temp * img[i+l, j+k]\n"
     ]
    },
    {
     "data": {
      "image/png": "[encoded data removed]",
      "text/plain": [
       "<Figure size 432x288 with 1 Axes>"
      ]
     },
     "metadata": {
      "needs_background": "light"
     },
     "output_type": "display_data"
    },
    {
     "data": {
      "image/png": "[encoded data removed]",
      "text/plain": [
       "<Figure size 432x288 with 1 Axes>"
      ]
     },
     "metadata": {
      "needs_background": "light"
     },
     "output_type": "display_data"
    }
   ],
   "source": [
    "#applying 5X5 mask\n",
    "import cv2\n",
    "import matplotlib.pyplot as plt \n",
    "import math\n",
    "import numpy as np\n",
    "\n",
    "#creating the image\n",
    "img = np.zeros([230, 233])\n",
    "img = img.astype(np.uint8) \n",
    "for i in range(10, 220):\n",
    "    j = 0\n",
    "    while j <= 192:\n",
    "        for k in range(j+0, j+16):\n",
    "            img[i, k] = 0\n",
    "        for k in range(j+17, j+24):\n",
    "            img[i, k] = 255\n",
    "        j += 24\n",
    "\n",
    "m, n = img.shape \n",
    "\n",
    "# Convolve the 5X5 mask over the image \n",
    "for i in range(3, m-3): \n",
    "    for j in range(3, n-3): \n",
    "        temp = 1\n",
    "        for l in range(-2, 3):\n",
    "            for k in range(-2, 3):\n",
    "                temp = temp * img[i+l, j+k]\n",
    "        temp = np.power(temp, 1/25)\n",
    "        \n",
    "        img_new[i, j]= temp \n",
    "img_new = img_new.astype(np.uint8) \n",
    "\n",
    "\n",
    "# Display the images\n",
    "plt.imshow(cv2.cvtColor(img, cv2.COLOR_BGR2RGB)) \n",
    "plt.show()\n",
    "\n",
    "# Display the images\n",
    "plt.imshow(cv2.cvtColor(img_new, cv2.COLOR_BGR2RGB)) \n",
    "plt.show()"
   ]
  },
  {
   "cell_type": "code",
   "execution_count": 31,
   "metadata": {},
   "outputs": [
    {
     "data": {
      "image/png": "[encoded data removed]",
      "text/plain": [
       "<Figure size 432x288 with 1 Axes>"
      ]
     },
     "metadata": {
      "needs_background": "light"
     },
     "output_type": "display_data"
    },
    {
     "data": {
      "image/png": "[encoded data removed]",
      "text/plain": [
       "<Figure size 432x288 with 1 Axes>"
      ]
     },
     "metadata": {
      "needs_background": "light"
     },
     "output_type": "display_data"
    }
   ],
   "source": [
    "#applying 9X9 mask\n",
    "import cv2\n",
    "import matplotlib.pyplot as plt \n",
    "import math\n",
    "import numpy as np\n",
    "\n",
    "#creating the image\n",
    "img = np.zeros([230, 233])\n",
    "img = img.astype(np.uint8) \n",
    "for i in range(10, 220):\n",
    "    j = 0\n",
    "    while j <= 192:\n",
    "        for k in range(j+0, j+16):\n",
    "            img[i, k] = 0\n",
    "        for k in range(j+17, j+24):\n",
    "            img[i, k] = 255\n",
    "        j += 24\n",
    "\n",
    "m, n = img.shape \n",
    "# Convolve the 9X9 mask over the image \n",
    "for i in range(4, m-4): \n",
    "    for j in range(4, n-4): \n",
    "        temp = 1\n",
    "        for l in range(-4, 5):\n",
    "            for k in range(-4, 5):\n",
    "                temp = temp * img[i+l, j+k]\n",
    "                \n",
    "        temp = np.power(temp, 1/81)\n",
    "                \n",
    "img_new = img_new.astype(np.uint8) \n",
    "\n",
    "\n",
    "# Display the images\n",
    "plt.imshow(cv2.cvtColor(img, cv2.COLOR_BGR2RGB)) \n",
    "plt.show()\n",
    "\n",
    "# Display the images\n",
    "plt.imshow(cv2.cvtColor(img_new, cv2.COLOR_BGR2RGB)) \n",
    "plt.show()"
   ]
  },
  {
   "cell_type": "code",
   "execution_count": null,
   "metadata": {},
   "outputs": [],
   "source": []
  }
 ],
 "metadata": {
  "kernelspec": {
   "display_name": "Python 3",
   "language": "python",
   "name": "python3"
  },
  "language_info": {
   "codemirror_mode": {
    "name": "ipython",
    "version": 3
   },
   "file_extension": ".py",
   "mimetype": "text/x-python",
   "name": "python",
   "nbconvert_exporter": "python",
   "pygments_lexer": "ipython3",
   "version": "3.8.3"
  }
 },
 "nbformat": 4,
 "nbformat_minor": 4
}
