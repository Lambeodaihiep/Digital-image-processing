{
 "cells": [
  {
   "cell_type": "code",
   "execution_count": 1,
   "metadata": {},
   "outputs": [
    {
     "data": {
      "text/plain": [
       "<matplotlib.figure.Figure at 0x7fdc454abf60>"
      ]
     },
     "metadata": {},
     "output_type": "display_data"
    }
   ],
   "source": [
    "import cv2 \n",
    "import matplotlib.pyplot as plt \n",
    "import math\n",
    "import numpy as np \n",
    "\n",
    "# Load the image\n",
    "img = cv2.imread('images/kidney.jpg')\n",
    "            \n",
    "# get height and width of the image \n",
    "height, width, _= img.shape \n",
    "\n",
    "img1 = img.copy() \n",
    "\n",
    " \n",
    "#original image\n",
    "plt.imshow(img) \n",
    "plt.show()\n"
   ]
  },
  {
   "cell_type": "code",
   "execution_count": null,
   "metadata": {},
   "outputs": [],
   "source": [
    "# Histogram plotting of the image \n",
    "color = ('b', 'g', 'r') \n",
    "  \n",
    "for i, col in enumerate(color): \n",
    "      \n",
    "    histr = cv2.calcHist([img],  \n",
    "                         [i], None, \n",
    "                         [256],  \n",
    "                         [0, 256]) \n",
    "      \n",
    "    plt.plot(histr, color = col) \n",
    "      \n",
    "    # Limit X - axis to 256 \n",
    "    plt.xlim([0, 256]) \n",
    "      \n",
    "plt.show() "
   ]
  },
  {
   "cell_type": "code",
   "execution_count": null,
   "metadata": {},
   "outputs": [],
   "source": [
    "# get height and width of the image \n",
    "height, width, _ = img.shape \n",
    "\n",
    "img1 = img.copy() \n",
    "\n",
    "for i in range(0, height - 1): \n",
    "    for j in range(0, width - 1): \n",
    "          \n",
    "        # Get the pixel value \n",
    "        pixel = img[i, j] \n",
    "          \n",
    "        # slice each channel by  \n",
    "        # subtracting it from 255 \n",
    "          \n",
    "        # 1st index contains red pixel \n",
    "        pixel[0] = 255 - pixel[0] \n",
    "        if pixel[0] >min_range and pixel[0] < max_range:\n",
    "            pixel[0] = 255\n",
    "        else:\n",
    "            pixel[0] = 0\n",
    "\n",
    "          \n",
    "        # 2nd index contains green pixel \n",
    "        pixel[1] = 255 - pixel[1] \n",
    "        if pixel[1] >min_range and pixel[1] < max_range:\n",
    "            pixel[1] = 255\n",
    "        else:\n",
    "            pixel[1] = 0 \n",
    "          \n",
    "        # 3rd index contains blue pixel \n",
    "        pixel[1] = 255 - pixel[1] \n",
    "        if pixel[1] > min_range and pixel[1] < max_range:\n",
    "            pixel[1] = 255\n",
    "        else:\n",
    "            pixel[1] = 0 \n",
    "          \n",
    "        # Store new values in the pixel \n",
    "        img1[i, j] = pixel \n",
    "  \n",
    "\n",
    " \n",
    "#original image\n",
    "plt.imshow(img) \n",
    "plt.show()\n",
    "\n",
    "#sliced image\n",
    "plt.imshow(img1) \n",
    "plt.show() \n"
   ]
  },
  {
   "cell_type": "code",
   "execution_count": null,
   "metadata": {},
   "outputs": [],
   "source": []
  }
 ],
 "metadata": {
  "kernelspec": {
   "display_name": "Python 3",
   "language": "python",
   "name": "python3"
  },
  "language_info": {
   "codemirror_mode": {
    "name": "ipython",
    "version": 3
   },
   "file_extension": ".py",
   "mimetype": "text/x-python",
   "name": "python",
   "nbconvert_exporter": "python",
   "pygments_lexer": "ipython3",
   "version": "3.6.9"
  }
 },
 "nbformat": 4,
 "nbformat_minor": 2
}
